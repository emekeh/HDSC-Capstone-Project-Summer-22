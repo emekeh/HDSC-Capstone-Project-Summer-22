{
  "cells": [
    {
      "cell_type": "markdown",
      "metadata": {
        "id": "D7H0KnbR52iB"
      },
      "source": [
        "# EDA for Supreme Court Judgement Prediction Using NLP"
      ]
    },
    {
      "cell_type": "markdown",
      "metadata": {
        "id": "QATMxFSP52iX"
      },
      "source": [
        "####**Importing libraries that are planned to be used in our process**"
      ]
    },
    {
      "cell_type": "code",
      "execution_count": 1,
      "metadata": {
        "_cell_guid": "b1076dfc-b9ad-4769-8c92-a6c4dae69d19",
        "_kg_hide-input": false,
        "_uuid": "8f2839f25d086af736a60e9eeb907d3b93b6e0e5",
        "execution": {
          "iopub.execute_input": "2022-02-02T09:52:21.479154Z",
          "iopub.status.busy": "2022-02-02T09:52:21.4788Z",
          "iopub.status.idle": "2022-02-02T09:52:23.336691Z",
          "shell.execute_reply": "2022-02-02T09:52:23.33563Z",
          "shell.execute_reply.started": "2022-02-02T09:52:21.479061Z"
        },
        "id": "A7ElmrOx52iY"
      },
      "outputs": [],
      "source": [
        "import numpy as np \n",
        "import pandas as pd \n",
        "\n",
        "from sklearn.model_selection import train_test_split\n",
        "from sklearn.metrics import classification_report\n",
        "\n",
        "from xgboost import XGBClassifier\n",
        "from sklearn.linear_model import LogisticRegression\n",
        "from sklearn.neighbors import KNeighborsClassifier\n",
        "\n",
        "from sklearn.metrics import accuracy_score\n",
        "## for data\n",
        "\n",
        "import re\n",
        "import nltk\n",
        "import nltk## for language detection"
      ]
    },
    {
      "cell_type": "code",
      "source": [
        "from google.colab import drive\n",
        "drive.mount('drive')"
      ],
      "metadata": {
        "id": "xXOfxvx06dU2",
        "colab": {
          "base_uri": "https://localhost:8080/"
        },
        "outputId": "3ada4b83-2cab-4ab1-c270-479b7c981497"
      },
      "execution_count": 2,
      "outputs": [
        {
          "output_type": "stream",
          "name": "stdout",
          "text": [
            "Drive already mounted at drive; to attempt to forcibly remount, call drive.mount(\"drive\", force_remount=True).\n"
          ]
        }
      ]
    },
    {
      "cell_type": "markdown",
      "metadata": {
        "id": "dNQRcOad52ia"
      },
      "source": [
        "#### Reading the dataset with pandas, dropping null values"
      ]
    },
    {
      "cell_type": "code",
      "execution_count": 3,
      "metadata": {
        "execution": {
          "iopub.execute_input": "2022-02-02T09:52:23.340764Z",
          "iopub.status.busy": "2022-02-02T09:52:23.338899Z",
          "iopub.status.idle": "2022-02-02T09:52:23.541456Z",
          "shell.execute_reply": "2022-02-02T09:52:23.540185Z",
          "shell.execute_reply.started": "2022-02-02T09:52:23.340715Z"
        },
        "colab": {
          "base_uri": "https://localhost:8080/"
        },
        "id": "ryHAq0Af52ib",
        "outputId": "4b96c9fb-9c57-48dd-8720-e2a4c3455a90"
      },
      "outputs": [
        {
          "output_type": "execute_result",
          "data": {
            "text/plain": [
              "<bound method NDFrame.head of                                                   facts        disposition  \\\n",
              "0     <p>Joan Stanley had three children with Peter ...  reversed/remanded   \n",
              "1     <p>John Giglio was convicted of passing forged...  reversed/remanded   \n",
              "2     <p>The Idaho Probate Code specified that \"male...  reversed/remanded   \n",
              "3     <p>Miller, after conducting a mass mailing cam...   vacated/remanded   \n",
              "4     <p>Ernest E. Mandel was a Belgian professional...           reversed   \n",
              "...                                                 ...                ...   \n",
              "3094  <p>For over a century after the Alaska Purchas...  reversed/remanded   \n",
              "3095  <p>Refugio Palomar-Santiago, a Mexican nationa...  reversed/remanded   \n",
              "3096  <p>Tarahrick Terry pleaded guilty to one count...           affirmed   \n",
              "3097  <p>Joshua James Cooley was parked in his picku...   vacated/remanded   \n",
              "3098  <p>The Natural Gas Act (NGA), 15 U.S.C. §§ 717...  reversed/remanded   \n",
              "\n",
              "         decision_type          issue_area  first_party_winner  \\\n",
              "0     majority opinion        Civil Rights                True   \n",
              "1     majority opinion         Due Process                True   \n",
              "2     majority opinion        Civil Rights                True   \n",
              "3     majority opinion     First Amendment                True   \n",
              "4     majority opinion     First Amendment                True   \n",
              "...                ...                 ...                 ...   \n",
              "3094  majority opinion        Civil Rights                True   \n",
              "3095  majority opinion  Criminal Procedure                True   \n",
              "3096  majority opinion  Criminal Procedure               False   \n",
              "3097  majority opinion        Civil Rights                True   \n",
              "3098  majority opinion         Due Process                True   \n",
              "\n",
              "                                         modified_facts  \n",
              "0     joan stanley three children peter stanley the ...  \n",
              "1     john giglio convicted passing forged money ord...  \n",
              "2     the idaho probate code specified males must pr...  \n",
              "3     miller conducting mass mailing campaign advert...  \n",
              "4     ernest e mandel belgian professional journalis...  \n",
              "...                                                 ...  \n",
              "3094  for century alaska purchase 1867 federal gover...  \n",
              "3095  refugio palomarsantiago mexican national grant...  \n",
              "3096  tarahrick terry pleaded guilty one count posse...  \n",
              "3097  joshua james cooley parked pickup truck side r...  \n",
              "3098  the natural gas act nga 15 usc §§ 717–717z per...  \n",
              "\n",
              "[3099 rows x 6 columns]>"
            ]
          },
          "metadata": {},
          "execution_count": 3
        }
      ],
      "source": [
        "#load dataset\n",
        "df = pd.read_csv('/content/drive/MyDrive/files/scj_cleaned1.csv')\n",
        "df.dropna(inplace=True)\n",
        "\n",
        "df.head"
      ]
    },
    {
      "cell_type": "code",
      "execution_count": 4,
      "metadata": {
        "execution": {
          "iopub.execute_input": "2022-02-02T09:52:23.552699Z",
          "iopub.status.busy": "2022-02-02T09:52:23.552198Z",
          "iopub.status.idle": "2022-02-02T09:52:23.567692Z",
          "shell.execute_reply": "2022-02-02T09:52:23.566454Z",
          "shell.execute_reply.started": "2022-02-02T09:52:23.552598Z"
        },
        "colab": {
          "base_uri": "https://localhost:8080/"
        },
        "id": "BV992W2w52ie",
        "outputId": "c1a8267a-cf6d-4eb9-ee21-86a3c2e33511"
      },
      "outputs": [
        {
          "output_type": "execute_result",
          "data": {
            "text/plain": [
              "(3099, 6)"
            ]
          },
          "metadata": {},
          "execution_count": 4
        }
      ],
      "source": [
        "df.shape"
      ]
    },
    {
      "cell_type": "code",
      "source": [
        "df.info()"
      ],
      "metadata": {
        "colab": {
          "base_uri": "https://localhost:8080/"
        },
        "id": "_49wJUWK9ubT",
        "outputId": "4792156d-fcda-4f4d-b88b-01431e6b0af5"
      },
      "execution_count": 5,
      "outputs": [
        {
          "output_type": "stream",
          "name": "stdout",
          "text": [
            "<class 'pandas.core.frame.DataFrame'>\n",
            "Int64Index: 3099 entries, 0 to 3098\n",
            "Data columns (total 6 columns):\n",
            " #   Column              Non-Null Count  Dtype \n",
            "---  ------              --------------  ----- \n",
            " 0   facts               3099 non-null   object\n",
            " 1   disposition         3099 non-null   object\n",
            " 2   decision_type       3099 non-null   object\n",
            " 3   issue_area          3099 non-null   object\n",
            " 4   first_party_winner  3099 non-null   bool  \n",
            " 5   modified_facts      3099 non-null   object\n",
            "dtypes: bool(1), object(5)\n",
            "memory usage: 148.3+ KB\n"
          ]
        }
      ]
    },
    {
      "cell_type": "markdown",
      "metadata": {
        "id": "rCRrcU9952if"
      },
      "source": [
        "#### Seperating the dataset into target variables and two groups of independent variables, one (df_cat) which requires one-hot encoding to be machine readable and the other (df_nlp) which is text data "
      ]
    },
    {
      "cell_type": "code",
      "execution_count": 6,
      "metadata": {
        "execution": {
          "iopub.execute_input": "2022-02-02T09:52:23.571576Z",
          "iopub.status.busy": "2022-02-02T09:52:23.570875Z",
          "iopub.status.idle": "2022-02-02T09:52:23.58083Z",
          "shell.execute_reply": "2022-02-02T09:52:23.579704Z",
          "shell.execute_reply.started": "2022-02-02T09:52:23.571522Z"
        },
        "id": "8XaTVhKM52ig"
      },
      "outputs": [],
      "source": [
        "df_cat = df[['decision_type', 'disposition']]\n",
        "\n",
        "df_target = df['first_party_winner']\n",
        "df_nlp = df['facts'] "
      ]
    },
    {
      "cell_type": "code",
      "execution_count": 7,
      "metadata": {
        "execution": {
          "iopub.execute_input": "2022-02-02T09:52:23.583395Z",
          "iopub.status.busy": "2022-02-02T09:52:23.582148Z",
          "iopub.status.idle": "2022-02-02T09:52:23.592169Z",
          "shell.execute_reply": "2022-02-02T09:52:23.590887Z",
          "shell.execute_reply.started": "2022-02-02T09:52:23.583346Z"
        },
        "id": "Ov_QzOAD52ii"
      },
      "outputs": [],
      "source": [
        "df_target = df['first_party_winner']"
      ]
    },
    {
      "cell_type": "code",
      "execution_count": 8,
      "metadata": {
        "execution": {
          "iopub.execute_input": "2022-02-02T09:52:23.595162Z",
          "iopub.status.busy": "2022-02-02T09:52:23.593759Z",
          "iopub.status.idle": "2022-02-02T09:52:23.604238Z",
          "shell.execute_reply": "2022-02-02T09:52:23.603241Z",
          "shell.execute_reply.started": "2022-02-02T09:52:23.595085Z"
        },
        "id": "XNsgKiGA52ij"
      },
      "outputs": [],
      "source": [
        "df_nlp = df['facts']"
      ]
    },
    {
      "cell_type": "markdown",
      "metadata": {
        "id": "Twxw8a2s52ij"
      },
      "source": [
        "#### Resetting indices to avoid NaNs during concatenation and performing one-hot encoding"
      ]
    },
    {
      "cell_type": "code",
      "execution_count": 9,
      "metadata": {
        "execution": {
          "iopub.execute_input": "2022-02-02T09:52:23.607778Z",
          "iopub.status.busy": "2022-02-02T09:52:23.606718Z",
          "iopub.status.idle": "2022-02-02T09:52:23.615846Z",
          "shell.execute_reply": "2022-02-02T09:52:23.614653Z",
          "shell.execute_reply.started": "2022-02-02T09:52:23.607732Z"
        },
        "id": "wZ5kPBH752ik"
      },
      "outputs": [],
      "source": [
        "df_cat.reset_index(drop=True, inplace=True)\n",
        "df_target.reset_index(drop=True, inplace=True)\n",
        "df_nlp.reset_index(drop=True, inplace=True)"
      ]
    },
    {
      "cell_type": "code",
      "execution_count": 10,
      "metadata": {
        "execution": {
          "iopub.execute_input": "2022-02-02T09:52:23.618742Z",
          "iopub.status.busy": "2022-02-02T09:52:23.617845Z",
          "iopub.status.idle": "2022-02-02T09:52:23.627809Z",
          "shell.execute_reply": "2022-02-02T09:52:23.626792Z",
          "shell.execute_reply.started": "2022-02-02T09:52:23.618615Z"
        },
        "id": "jakEf5a052ik"
      },
      "outputs": [],
      "source": [
        "from sklearn import preprocessing\n",
        "label_encoder = preprocessing.LabelEncoder()\n",
        "df_target= label_encoder.fit_transform(df_target)"
      ]
    },
    {
      "cell_type": "code",
      "execution_count": 11,
      "metadata": {
        "execution": {
          "iopub.execute_input": "2022-02-02T09:52:23.630476Z",
          "iopub.status.busy": "2022-02-02T09:52:23.629593Z",
          "iopub.status.idle": "2022-02-02T09:52:23.645854Z",
          "shell.execute_reply": "2022-02-02T09:52:23.644743Z",
          "shell.execute_reply.started": "2022-02-02T09:52:23.630343Z"
        },
        "id": "IKRA2P3X52il",
        "outputId": "798ee967-40a0-4ab3-d490-8ed9d648d30c",
        "colab": {
          "base_uri": "https://localhost:8080/",
          "height": 423
        }
      },
      "outputs": [
        {
          "output_type": "execute_result",
          "data": {
            "text/plain": [
              "      first_party_winner\n",
              "0                      1\n",
              "1                      1\n",
              "2                      1\n",
              "3                      1\n",
              "4                      1\n",
              "...                  ...\n",
              "3094                   1\n",
              "3095                   1\n",
              "3096                   0\n",
              "3097                   1\n",
              "3098                   1\n",
              "\n",
              "[3099 rows x 1 columns]"
            ],
            "text/html": [
              "\n",
              "  <div id=\"df-7aff3166-5b62-4445-8d96-063af77459b6\">\n",
              "    <div class=\"colab-df-container\">\n",
              "      <div>\n",
              "<style scoped>\n",
              "    .dataframe tbody tr th:only-of-type {\n",
              "        vertical-align: middle;\n",
              "    }\n",
              "\n",
              "    .dataframe tbody tr th {\n",
              "        vertical-align: top;\n",
              "    }\n",
              "\n",
              "    .dataframe thead th {\n",
              "        text-align: right;\n",
              "    }\n",
              "</style>\n",
              "<table border=\"1\" class=\"dataframe\">\n",
              "  <thead>\n",
              "    <tr style=\"text-align: right;\">\n",
              "      <th></th>\n",
              "      <th>first_party_winner</th>\n",
              "    </tr>\n",
              "  </thead>\n",
              "  <tbody>\n",
              "    <tr>\n",
              "      <th>0</th>\n",
              "      <td>1</td>\n",
              "    </tr>\n",
              "    <tr>\n",
              "      <th>1</th>\n",
              "      <td>1</td>\n",
              "    </tr>\n",
              "    <tr>\n",
              "      <th>2</th>\n",
              "      <td>1</td>\n",
              "    </tr>\n",
              "    <tr>\n",
              "      <th>3</th>\n",
              "      <td>1</td>\n",
              "    </tr>\n",
              "    <tr>\n",
              "      <th>4</th>\n",
              "      <td>1</td>\n",
              "    </tr>\n",
              "    <tr>\n",
              "      <th>...</th>\n",
              "      <td>...</td>\n",
              "    </tr>\n",
              "    <tr>\n",
              "      <th>3094</th>\n",
              "      <td>1</td>\n",
              "    </tr>\n",
              "    <tr>\n",
              "      <th>3095</th>\n",
              "      <td>1</td>\n",
              "    </tr>\n",
              "    <tr>\n",
              "      <th>3096</th>\n",
              "      <td>0</td>\n",
              "    </tr>\n",
              "    <tr>\n",
              "      <th>3097</th>\n",
              "      <td>1</td>\n",
              "    </tr>\n",
              "    <tr>\n",
              "      <th>3098</th>\n",
              "      <td>1</td>\n",
              "    </tr>\n",
              "  </tbody>\n",
              "</table>\n",
              "<p>3099 rows × 1 columns</p>\n",
              "</div>\n",
              "      <button class=\"colab-df-convert\" onclick=\"convertToInteractive('df-7aff3166-5b62-4445-8d96-063af77459b6')\"\n",
              "              title=\"Convert this dataframe to an interactive table.\"\n",
              "              style=\"display:none;\">\n",
              "        \n",
              "  <svg xmlns=\"http://www.w3.org/2000/svg\" height=\"24px\"viewBox=\"0 0 24 24\"\n",
              "       width=\"24px\">\n",
              "    <path d=\"M0 0h24v24H0V0z\" fill=\"none\"/>\n",
              "    <path d=\"M18.56 5.44l.94 2.06.94-2.06 2.06-.94-2.06-.94-.94-2.06-.94 2.06-2.06.94zm-11 1L8.5 8.5l.94-2.06 2.06-.94-2.06-.94L8.5 2.5l-.94 2.06-2.06.94zm10 10l.94 2.06.94-2.06 2.06-.94-2.06-.94-.94-2.06-.94 2.06-2.06.94z\"/><path d=\"M17.41 7.96l-1.37-1.37c-.4-.4-.92-.59-1.43-.59-.52 0-1.04.2-1.43.59L10.3 9.45l-7.72 7.72c-.78.78-.78 2.05 0 2.83L4 21.41c.39.39.9.59 1.41.59.51 0 1.02-.2 1.41-.59l7.78-7.78 2.81-2.81c.8-.78.8-2.07 0-2.86zM5.41 20L4 18.59l7.72-7.72 1.47 1.35L5.41 20z\"/>\n",
              "  </svg>\n",
              "      </button>\n",
              "      \n",
              "  <style>\n",
              "    .colab-df-container {\n",
              "      display:flex;\n",
              "      flex-wrap:wrap;\n",
              "      gap: 12px;\n",
              "    }\n",
              "\n",
              "    .colab-df-convert {\n",
              "      background-color: #E8F0FE;\n",
              "      border: none;\n",
              "      border-radius: 50%;\n",
              "      cursor: pointer;\n",
              "      display: none;\n",
              "      fill: #1967D2;\n",
              "      height: 32px;\n",
              "      padding: 0 0 0 0;\n",
              "      width: 32px;\n",
              "    }\n",
              "\n",
              "    .colab-df-convert:hover {\n",
              "      background-color: #E2EBFA;\n",
              "      box-shadow: 0px 1px 2px rgba(60, 64, 67, 0.3), 0px 1px 3px 1px rgba(60, 64, 67, 0.15);\n",
              "      fill: #174EA6;\n",
              "    }\n",
              "\n",
              "    [theme=dark] .colab-df-convert {\n",
              "      background-color: #3B4455;\n",
              "      fill: #D2E3FC;\n",
              "    }\n",
              "\n",
              "    [theme=dark] .colab-df-convert:hover {\n",
              "      background-color: #434B5C;\n",
              "      box-shadow: 0px 1px 3px 1px rgba(0, 0, 0, 0.15);\n",
              "      filter: drop-shadow(0px 1px 2px rgba(0, 0, 0, 0.3));\n",
              "      fill: #FFFFFF;\n",
              "    }\n",
              "  </style>\n",
              "\n",
              "      <script>\n",
              "        const buttonEl =\n",
              "          document.querySelector('#df-7aff3166-5b62-4445-8d96-063af77459b6 button.colab-df-convert');\n",
              "        buttonEl.style.display =\n",
              "          google.colab.kernel.accessAllowed ? 'block' : 'none';\n",
              "\n",
              "        async function convertToInteractive(key) {\n",
              "          const element = document.querySelector('#df-7aff3166-5b62-4445-8d96-063af77459b6');\n",
              "          const dataTable =\n",
              "            await google.colab.kernel.invokeFunction('convertToInteractive',\n",
              "                                                     [key], {});\n",
              "          if (!dataTable) return;\n",
              "\n",
              "          const docLinkHtml = 'Like what you see? Visit the ' +\n",
              "            '<a target=\"_blank\" href=https://colab.research.google.com/notebooks/data_table.ipynb>data table notebook</a>'\n",
              "            + ' to learn more about interactive tables.';\n",
              "          element.innerHTML = '';\n",
              "          dataTable['output_type'] = 'display_data';\n",
              "          await google.colab.output.renderOutput(dataTable, element);\n",
              "          const docLink = document.createElement('div');\n",
              "          docLink.innerHTML = docLinkHtml;\n",
              "          element.appendChild(docLink);\n",
              "        }\n",
              "      </script>\n",
              "    </div>\n",
              "  </div>\n",
              "  "
            ]
          },
          "metadata": {},
          "execution_count": 11
        }
      ],
      "source": [
        "df_target1 = pd.DataFrame(df_target, columns=['first_party_winner'])\n",
        "df_target1"
      ]
    },
    {
      "cell_type": "code",
      "execution_count": 12,
      "metadata": {
        "execution": {
          "iopub.execute_input": "2022-02-02T09:52:23.648132Z",
          "iopub.status.busy": "2022-02-02T09:52:23.647605Z",
          "iopub.status.idle": "2022-02-02T09:52:23.667497Z",
          "shell.execute_reply": "2022-02-02T09:52:23.666471Z",
          "shell.execute_reply.started": "2022-02-02T09:52:23.648079Z"
        },
        "id": "2oWZieTW52im",
        "outputId": "2b252e77-93f7-40b7-fc39-d79b4a3dffcc",
        "colab": {
          "base_uri": "https://localhost:8080/",
          "height": 423
        }
      },
      "outputs": [
        {
          "output_type": "execute_result",
          "data": {
            "text/plain": [
              "         decision_type        disposition  first_party_winner\n",
              "0     majority opinion  reversed/remanded                   1\n",
              "1     majority opinion  reversed/remanded                   1\n",
              "2     majority opinion  reversed/remanded                   1\n",
              "3     majority opinion   vacated/remanded                   1\n",
              "4     majority opinion           reversed                   1\n",
              "...                ...                ...                 ...\n",
              "3094  majority opinion  reversed/remanded                   1\n",
              "3095  majority opinion  reversed/remanded                   1\n",
              "3096  majority opinion           affirmed                   0\n",
              "3097  majority opinion   vacated/remanded                   1\n",
              "3098  majority opinion  reversed/remanded                   1\n",
              "\n",
              "[3099 rows x 3 columns]"
            ],
            "text/html": [
              "\n",
              "  <div id=\"df-c615c62f-c5a3-4504-a7ce-7b99a97728fa\">\n",
              "    <div class=\"colab-df-container\">\n",
              "      <div>\n",
              "<style scoped>\n",
              "    .dataframe tbody tr th:only-of-type {\n",
              "        vertical-align: middle;\n",
              "    }\n",
              "\n",
              "    .dataframe tbody tr th {\n",
              "        vertical-align: top;\n",
              "    }\n",
              "\n",
              "    .dataframe thead th {\n",
              "        text-align: right;\n",
              "    }\n",
              "</style>\n",
              "<table border=\"1\" class=\"dataframe\">\n",
              "  <thead>\n",
              "    <tr style=\"text-align: right;\">\n",
              "      <th></th>\n",
              "      <th>decision_type</th>\n",
              "      <th>disposition</th>\n",
              "      <th>first_party_winner</th>\n",
              "    </tr>\n",
              "  </thead>\n",
              "  <tbody>\n",
              "    <tr>\n",
              "      <th>0</th>\n",
              "      <td>majority opinion</td>\n",
              "      <td>reversed/remanded</td>\n",
              "      <td>1</td>\n",
              "    </tr>\n",
              "    <tr>\n",
              "      <th>1</th>\n",
              "      <td>majority opinion</td>\n",
              "      <td>reversed/remanded</td>\n",
              "      <td>1</td>\n",
              "    </tr>\n",
              "    <tr>\n",
              "      <th>2</th>\n",
              "      <td>majority opinion</td>\n",
              "      <td>reversed/remanded</td>\n",
              "      <td>1</td>\n",
              "    </tr>\n",
              "    <tr>\n",
              "      <th>3</th>\n",
              "      <td>majority opinion</td>\n",
              "      <td>vacated/remanded</td>\n",
              "      <td>1</td>\n",
              "    </tr>\n",
              "    <tr>\n",
              "      <th>4</th>\n",
              "      <td>majority opinion</td>\n",
              "      <td>reversed</td>\n",
              "      <td>1</td>\n",
              "    </tr>\n",
              "    <tr>\n",
              "      <th>...</th>\n",
              "      <td>...</td>\n",
              "      <td>...</td>\n",
              "      <td>...</td>\n",
              "    </tr>\n",
              "    <tr>\n",
              "      <th>3094</th>\n",
              "      <td>majority opinion</td>\n",
              "      <td>reversed/remanded</td>\n",
              "      <td>1</td>\n",
              "    </tr>\n",
              "    <tr>\n",
              "      <th>3095</th>\n",
              "      <td>majority opinion</td>\n",
              "      <td>reversed/remanded</td>\n",
              "      <td>1</td>\n",
              "    </tr>\n",
              "    <tr>\n",
              "      <th>3096</th>\n",
              "      <td>majority opinion</td>\n",
              "      <td>affirmed</td>\n",
              "      <td>0</td>\n",
              "    </tr>\n",
              "    <tr>\n",
              "      <th>3097</th>\n",
              "      <td>majority opinion</td>\n",
              "      <td>vacated/remanded</td>\n",
              "      <td>1</td>\n",
              "    </tr>\n",
              "    <tr>\n",
              "      <th>3098</th>\n",
              "      <td>majority opinion</td>\n",
              "      <td>reversed/remanded</td>\n",
              "      <td>1</td>\n",
              "    </tr>\n",
              "  </tbody>\n",
              "</table>\n",
              "<p>3099 rows × 3 columns</p>\n",
              "</div>\n",
              "      <button class=\"colab-df-convert\" onclick=\"convertToInteractive('df-c615c62f-c5a3-4504-a7ce-7b99a97728fa')\"\n",
              "              title=\"Convert this dataframe to an interactive table.\"\n",
              "              style=\"display:none;\">\n",
              "        \n",
              "  <svg xmlns=\"http://www.w3.org/2000/svg\" height=\"24px\"viewBox=\"0 0 24 24\"\n",
              "       width=\"24px\">\n",
              "    <path d=\"M0 0h24v24H0V0z\" fill=\"none\"/>\n",
              "    <path d=\"M18.56 5.44l.94 2.06.94-2.06 2.06-.94-2.06-.94-.94-2.06-.94 2.06-2.06.94zm-11 1L8.5 8.5l.94-2.06 2.06-.94-2.06-.94L8.5 2.5l-.94 2.06-2.06.94zm10 10l.94 2.06.94-2.06 2.06-.94-2.06-.94-.94-2.06-.94 2.06-2.06.94z\"/><path d=\"M17.41 7.96l-1.37-1.37c-.4-.4-.92-.59-1.43-.59-.52 0-1.04.2-1.43.59L10.3 9.45l-7.72 7.72c-.78.78-.78 2.05 0 2.83L4 21.41c.39.39.9.59 1.41.59.51 0 1.02-.2 1.41-.59l7.78-7.78 2.81-2.81c.8-.78.8-2.07 0-2.86zM5.41 20L4 18.59l7.72-7.72 1.47 1.35L5.41 20z\"/>\n",
              "  </svg>\n",
              "      </button>\n",
              "      \n",
              "  <style>\n",
              "    .colab-df-container {\n",
              "      display:flex;\n",
              "      flex-wrap:wrap;\n",
              "      gap: 12px;\n",
              "    }\n",
              "\n",
              "    .colab-df-convert {\n",
              "      background-color: #E8F0FE;\n",
              "      border: none;\n",
              "      border-radius: 50%;\n",
              "      cursor: pointer;\n",
              "      display: none;\n",
              "      fill: #1967D2;\n",
              "      height: 32px;\n",
              "      padding: 0 0 0 0;\n",
              "      width: 32px;\n",
              "    }\n",
              "\n",
              "    .colab-df-convert:hover {\n",
              "      background-color: #E2EBFA;\n",
              "      box-shadow: 0px 1px 2px rgba(60, 64, 67, 0.3), 0px 1px 3px 1px rgba(60, 64, 67, 0.15);\n",
              "      fill: #174EA6;\n",
              "    }\n",
              "\n",
              "    [theme=dark] .colab-df-convert {\n",
              "      background-color: #3B4455;\n",
              "      fill: #D2E3FC;\n",
              "    }\n",
              "\n",
              "    [theme=dark] .colab-df-convert:hover {\n",
              "      background-color: #434B5C;\n",
              "      box-shadow: 0px 1px 3px 1px rgba(0, 0, 0, 0.15);\n",
              "      filter: drop-shadow(0px 1px 2px rgba(0, 0, 0, 0.3));\n",
              "      fill: #FFFFFF;\n",
              "    }\n",
              "  </style>\n",
              "\n",
              "      <script>\n",
              "        const buttonEl =\n",
              "          document.querySelector('#df-c615c62f-c5a3-4504-a7ce-7b99a97728fa button.colab-df-convert');\n",
              "        buttonEl.style.display =\n",
              "          google.colab.kernel.accessAllowed ? 'block' : 'none';\n",
              "\n",
              "        async function convertToInteractive(key) {\n",
              "          const element = document.querySelector('#df-c615c62f-c5a3-4504-a7ce-7b99a97728fa');\n",
              "          const dataTable =\n",
              "            await google.colab.kernel.invokeFunction('convertToInteractive',\n",
              "                                                     [key], {});\n",
              "          if (!dataTable) return;\n",
              "\n",
              "          const docLinkHtml = 'Like what you see? Visit the ' +\n",
              "            '<a target=\"_blank\" href=https://colab.research.google.com/notebooks/data_table.ipynb>data table notebook</a>'\n",
              "            + ' to learn more about interactive tables.';\n",
              "          element.innerHTML = '';\n",
              "          dataTable['output_type'] = 'display_data';\n",
              "          await google.colab.output.renderOutput(dataTable, element);\n",
              "          const docLink = document.createElement('div');\n",
              "          docLink.innerHTML = docLinkHtml;\n",
              "          element.appendChild(docLink);\n",
              "        }\n",
              "      </script>\n",
              "    </div>\n",
              "  </div>\n",
              "  "
            ]
          },
          "metadata": {},
          "execution_count": 12
        }
      ],
      "source": [
        "frames = [df_cat, df_target1]\n",
        "df_concat = pd.concat(frames, axis=1, join='inner')\n",
        "df_concat"
      ]
    },
    {
      "cell_type": "code",
      "execution_count": 13,
      "metadata": {
        "execution": {
          "iopub.execute_input": "2022-02-02T09:52:23.669605Z",
          "iopub.status.busy": "2022-02-02T09:52:23.669068Z",
          "iopub.status.idle": "2022-02-02T09:52:23.677042Z",
          "shell.execute_reply": "2022-02-02T09:52:23.675772Z",
          "shell.execute_reply.started": "2022-02-02T09:52:23.669559Z"
        },
        "id": "UexCyljS52im"
      },
      "outputs": [],
      "source": [
        "df_nlp1 = pd.DataFrame(df_nlp, columns=['facts'])"
      ]
    },
    {
      "cell_type": "code",
      "execution_count": 14,
      "metadata": {
        "execution": {
          "iopub.execute_input": "2022-02-02T09:52:23.680246Z",
          "iopub.status.busy": "2022-02-02T09:52:23.679197Z",
          "iopub.status.idle": "2022-02-02T09:52:23.71266Z",
          "shell.execute_reply": "2022-02-02T09:52:23.711605Z",
          "shell.execute_reply.started": "2022-02-02T09:52:23.6802Z"
        },
        "id": "i1Z4_Y0G52in",
        "outputId": "abf66b5d-d869-4a33-b48e-45f7ff8a6e90",
        "colab": {
          "base_uri": "https://localhost:8080/",
          "height": 423
        }
      },
      "outputs": [
        {
          "output_type": "execute_result",
          "data": {
            "text/plain": [
              "                                                  facts\n",
              "0     Joan Stanley had three children with Peter Sta...\n",
              "1     John Giglio was convicted of passing forged mo...\n",
              "2     The Idaho Probate Code specified that \"males m...\n",
              "3     Miller, after conducting a mass mailing campai...\n",
              "4     Ernest E. Mandel was a Belgian professional jo...\n",
              "...                                                 ...\n",
              "3094  For over a century after the Alaska Purchase i...\n",
              "3095  Refugio Palomar-Santiago, a Mexican national, ...\n",
              "3096  Tarahrick Terry pleaded guilty to one count of...\n",
              "3097  Joshua James Cooley was parked in his pickup t...\n",
              "3098  The Natural Gas Act (NGA), 15 U.S.C. §§ 717–71...\n",
              "\n",
              "[3099 rows x 1 columns]"
            ],
            "text/html": [
              "\n",
              "  <div id=\"df-c8d27557-a8fa-418a-8737-850eb388b26f\">\n",
              "    <div class=\"colab-df-container\">\n",
              "      <div>\n",
              "<style scoped>\n",
              "    .dataframe tbody tr th:only-of-type {\n",
              "        vertical-align: middle;\n",
              "    }\n",
              "\n",
              "    .dataframe tbody tr th {\n",
              "        vertical-align: top;\n",
              "    }\n",
              "\n",
              "    .dataframe thead th {\n",
              "        text-align: right;\n",
              "    }\n",
              "</style>\n",
              "<table border=\"1\" class=\"dataframe\">\n",
              "  <thead>\n",
              "    <tr style=\"text-align: right;\">\n",
              "      <th></th>\n",
              "      <th>facts</th>\n",
              "    </tr>\n",
              "  </thead>\n",
              "  <tbody>\n",
              "    <tr>\n",
              "      <th>0</th>\n",
              "      <td>Joan Stanley had three children with Peter Sta...</td>\n",
              "    </tr>\n",
              "    <tr>\n",
              "      <th>1</th>\n",
              "      <td>John Giglio was convicted of passing forged mo...</td>\n",
              "    </tr>\n",
              "    <tr>\n",
              "      <th>2</th>\n",
              "      <td>The Idaho Probate Code specified that \"males m...</td>\n",
              "    </tr>\n",
              "    <tr>\n",
              "      <th>3</th>\n",
              "      <td>Miller, after conducting a mass mailing campai...</td>\n",
              "    </tr>\n",
              "    <tr>\n",
              "      <th>4</th>\n",
              "      <td>Ernest E. Mandel was a Belgian professional jo...</td>\n",
              "    </tr>\n",
              "    <tr>\n",
              "      <th>...</th>\n",
              "      <td>...</td>\n",
              "    </tr>\n",
              "    <tr>\n",
              "      <th>3094</th>\n",
              "      <td>For over a century after the Alaska Purchase i...</td>\n",
              "    </tr>\n",
              "    <tr>\n",
              "      <th>3095</th>\n",
              "      <td>Refugio Palomar-Santiago, a Mexican national, ...</td>\n",
              "    </tr>\n",
              "    <tr>\n",
              "      <th>3096</th>\n",
              "      <td>Tarahrick Terry pleaded guilty to one count of...</td>\n",
              "    </tr>\n",
              "    <tr>\n",
              "      <th>3097</th>\n",
              "      <td>Joshua James Cooley was parked in his pickup t...</td>\n",
              "    </tr>\n",
              "    <tr>\n",
              "      <th>3098</th>\n",
              "      <td>The Natural Gas Act (NGA), 15 U.S.C. §§ 717–71...</td>\n",
              "    </tr>\n",
              "  </tbody>\n",
              "</table>\n",
              "<p>3099 rows × 1 columns</p>\n",
              "</div>\n",
              "      <button class=\"colab-df-convert\" onclick=\"convertToInteractive('df-c8d27557-a8fa-418a-8737-850eb388b26f')\"\n",
              "              title=\"Convert this dataframe to an interactive table.\"\n",
              "              style=\"display:none;\">\n",
              "        \n",
              "  <svg xmlns=\"http://www.w3.org/2000/svg\" height=\"24px\"viewBox=\"0 0 24 24\"\n",
              "       width=\"24px\">\n",
              "    <path d=\"M0 0h24v24H0V0z\" fill=\"none\"/>\n",
              "    <path d=\"M18.56 5.44l.94 2.06.94-2.06 2.06-.94-2.06-.94-.94-2.06-.94 2.06-2.06.94zm-11 1L8.5 8.5l.94-2.06 2.06-.94-2.06-.94L8.5 2.5l-.94 2.06-2.06.94zm10 10l.94 2.06.94-2.06 2.06-.94-2.06-.94-.94-2.06-.94 2.06-2.06.94z\"/><path d=\"M17.41 7.96l-1.37-1.37c-.4-.4-.92-.59-1.43-.59-.52 0-1.04.2-1.43.59L10.3 9.45l-7.72 7.72c-.78.78-.78 2.05 0 2.83L4 21.41c.39.39.9.59 1.41.59.51 0 1.02-.2 1.41-.59l7.78-7.78 2.81-2.81c.8-.78.8-2.07 0-2.86zM5.41 20L4 18.59l7.72-7.72 1.47 1.35L5.41 20z\"/>\n",
              "  </svg>\n",
              "      </button>\n",
              "      \n",
              "  <style>\n",
              "    .colab-df-container {\n",
              "      display:flex;\n",
              "      flex-wrap:wrap;\n",
              "      gap: 12px;\n",
              "    }\n",
              "\n",
              "    .colab-df-convert {\n",
              "      background-color: #E8F0FE;\n",
              "      border: none;\n",
              "      border-radius: 50%;\n",
              "      cursor: pointer;\n",
              "      display: none;\n",
              "      fill: #1967D2;\n",
              "      height: 32px;\n",
              "      padding: 0 0 0 0;\n",
              "      width: 32px;\n",
              "    }\n",
              "\n",
              "    .colab-df-convert:hover {\n",
              "      background-color: #E2EBFA;\n",
              "      box-shadow: 0px 1px 2px rgba(60, 64, 67, 0.3), 0px 1px 3px 1px rgba(60, 64, 67, 0.15);\n",
              "      fill: #174EA6;\n",
              "    }\n",
              "\n",
              "    [theme=dark] .colab-df-convert {\n",
              "      background-color: #3B4455;\n",
              "      fill: #D2E3FC;\n",
              "    }\n",
              "\n",
              "    [theme=dark] .colab-df-convert:hover {\n",
              "      background-color: #434B5C;\n",
              "      box-shadow: 0px 1px 3px 1px rgba(0, 0, 0, 0.15);\n",
              "      filter: drop-shadow(0px 1px 2px rgba(0, 0, 0, 0.3));\n",
              "      fill: #FFFFFF;\n",
              "    }\n",
              "  </style>\n",
              "\n",
              "      <script>\n",
              "        const buttonEl =\n",
              "          document.querySelector('#df-c8d27557-a8fa-418a-8737-850eb388b26f button.colab-df-convert');\n",
              "        buttonEl.style.display =\n",
              "          google.colab.kernel.accessAllowed ? 'block' : 'none';\n",
              "\n",
              "        async function convertToInteractive(key) {\n",
              "          const element = document.querySelector('#df-c8d27557-a8fa-418a-8737-850eb388b26f');\n",
              "          const dataTable =\n",
              "            await google.colab.kernel.invokeFunction('convertToInteractive',\n",
              "                                                     [key], {});\n",
              "          if (!dataTable) return;\n",
              "\n",
              "          const docLinkHtml = 'Like what you see? Visit the ' +\n",
              "            '<a target=\"_blank\" href=https://colab.research.google.com/notebooks/data_table.ipynb>data table notebook</a>'\n",
              "            + ' to learn more about interactive tables.';\n",
              "          element.innerHTML = '';\n",
              "          dataTable['output_type'] = 'display_data';\n",
              "          await google.colab.output.renderOutput(dataTable, element);\n",
              "          const docLink = document.createElement('div');\n",
              "          docLink.innerHTML = docLinkHtml;\n",
              "          element.appendChild(docLink);\n",
              "        }\n",
              "      </script>\n",
              "    </div>\n",
              "  </div>\n",
              "  "
            ]
          },
          "metadata": {},
          "execution_count": 14
        }
      ],
      "source": [
        "df_nlp1['facts'] = df_nlp1['facts'].str.replace(r'<[^<>]*>', '', regex=True)\n",
        "df_nlp1"
      ]
    },
    {
      "cell_type": "markdown",
      "metadata": {
        "id": "EoHmnHUU52io"
      },
      "source": [
        "**Performing *initial cleaning* and *tokenizing the corpus*, introducing a function to perform further cleaning and *Lemmatization* upon the data**."
      ]
    },
    {
      "cell_type": "code",
      "execution_count": 15,
      "metadata": {
        "id": "9IChVdYz52io",
        "outputId": "25ec03d2-c1d2-47ec-c879-d58c1209c3ec",
        "colab": {
          "base_uri": "https://localhost:8080/"
        }
      },
      "outputs": [
        {
          "output_type": "stream",
          "name": "stderr",
          "text": [
            "[nltk_data] Downloading package stopwords to /root/nltk_data...\n",
            "[nltk_data]   Package stopwords is already up-to-date!\n"
          ]
        }
      ],
      "source": [
        "nltk.download('stopwords')\n",
        "stop_words = nltk.corpus.stopwords.words('english')"
      ]
    },
    {
      "cell_type": "code",
      "execution_count": 16,
      "metadata": {
        "id": "jgQSxB5_52ip",
        "outputId": "83aa46b5-2bfa-4ffc-9d7d-7b8a061c8368",
        "colab": {
          "base_uri": "https://localhost:8080/"
        }
      },
      "outputs": [
        {
          "output_type": "stream",
          "name": "stderr",
          "text": [
            "[nltk_data] Downloading package punkt to /root/nltk_data...\n",
            "[nltk_data]   Package punkt is already up-to-date!\n"
          ]
        },
        {
          "output_type": "execute_result",
          "data": {
            "text/plain": [
              "True"
            ]
          },
          "metadata": {},
          "execution_count": 16
        }
      ],
      "source": [
        "import nltk\n",
        "nltk.download('punkt')\n",
        "  "
      ]
    },
    {
      "cell_type": "code",
      "execution_count": 17,
      "metadata": {
        "execution": {
          "iopub.execute_input": "2022-02-02T09:52:23.720147Z",
          "iopub.status.busy": "2022-02-02T09:52:23.717951Z",
          "iopub.status.idle": "2022-02-02T09:52:31.099469Z",
          "shell.execute_reply": "2022-02-02T09:52:31.09837Z",
          "shell.execute_reply.started": "2022-02-02T09:52:23.720099Z"
        },
        "id": "NR69xS3-52ip"
      },
      "outputs": [],
      "source": [
        "corpus = df_nlp1[\"facts\"]\n",
        "lst_tokens = nltk.tokenize.word_tokenize(corpus.str.cat(sep=\" \"))"
      ]
    },
    {
      "cell_type": "code",
      "execution_count": 18,
      "metadata": {
        "execution": {
          "iopub.execute_input": "2022-02-02T09:52:31.101689Z",
          "iopub.status.busy": "2022-02-02T09:52:31.101184Z",
          "iopub.status.idle": "2022-02-02T09:52:31.107965Z",
          "shell.execute_reply": "2022-02-02T09:52:31.106867Z",
          "shell.execute_reply.started": "2022-02-02T09:52:31.101639Z"
        },
        "id": "nvLt2OA652iq"
      },
      "outputs": [],
      "source": [
        "ps = nltk.stem.porter.PorterStemmer()\n",
        "lem = nltk.stem.wordnet.WordNetLemmatizer()"
      ]
    },
    {
      "cell_type": "code",
      "execution_count": 19,
      "metadata": {
        "execution": {
          "iopub.execute_input": "2022-02-02T09:52:31.110562Z",
          "iopub.status.busy": "2022-02-02T09:52:31.109871Z",
          "iopub.status.idle": "2022-02-02T09:52:31.126346Z",
          "shell.execute_reply": "2022-02-02T09:52:31.125372Z",
          "shell.execute_reply.started": "2022-02-02T09:52:31.110516Z"
        },
        "id": "v56oelFn52iq"
      },
      "outputs": [],
      "source": [
        "lst_stopwords = nltk.corpus.stopwords.words(\"english\")"
      ]
    },
    {
      "cell_type": "code",
      "execution_count": 20,
      "metadata": {
        "execution": {
          "iopub.execute_input": "2022-02-02T09:52:31.130162Z",
          "iopub.status.busy": "2022-02-02T09:52:31.129744Z",
          "iopub.status.idle": "2022-02-02T09:52:31.139369Z",
          "shell.execute_reply": "2022-02-02T09:52:31.138138Z",
          "shell.execute_reply.started": "2022-02-02T09:52:31.1301Z"
        },
        "id": "Bkg7tF8Z52ir"
      },
      "outputs": [],
      "source": [
        "\n",
        "def utils_preprocess_text(text, flg_stemm=False, flg_lemm=True, lst_stopwords=None):\n",
        "    ## clean (convert to lowercase and remove punctuations and characters and then strip)\n",
        "    text = re.sub(r'[^\\w\\s]', '', str(text).lower().strip())\n",
        "            \n",
        "    ## Tokenize (convert from string to list)\n",
        "    lst_text = text.split()    ## remove Stopwords\n",
        "    if lst_stopwords is not None:\n",
        "        lst_text = [word for word in lst_text if word not in \n",
        "                    lst_stopwords]\n",
        "                \n",
        "    ## Stemming (remove -ing, -ly, ...)\n",
        "    if flg_stemm == True:\n",
        "        ps = nltk.stem.porter.PorterStemmer()\n",
        "        lst_text = [ps.stem(word) for word in lst_text]\n",
        "                \n",
        "    ## Lemmatisation (convert the word into root word)\n",
        "    if flg_lemm == True:\n",
        "        lem = nltk.stem.wordnet.WordNetLemmatizer()\n",
        "        lst_text = [lem.lemmatize(word) for word in lst_text]\n",
        "            \n",
        "    ## back to string from list\n",
        "    text = \" \".join(lst_text)\n",
        "    return text"
      ]
    },
    {
      "cell_type": "code",
      "execution_count": 21,
      "metadata": {
        "id": "tzLHlZlj52ir",
        "outputId": "0305c045-2708-4457-9d84-1c001f0d1fea",
        "colab": {
          "base_uri": "https://localhost:8080/"
        }
      },
      "outputs": [
        {
          "output_type": "stream",
          "name": "stderr",
          "text": [
            "[nltk_data] Downloading package wordnet to /root/nltk_data...\n",
            "[nltk_data]   Package wordnet is already up-to-date!\n"
          ]
        },
        {
          "output_type": "execute_result",
          "data": {
            "text/plain": [
              "True"
            ]
          },
          "metadata": {},
          "execution_count": 21
        }
      ],
      "source": [
        "import nltk\n",
        "nltk.download('wordnet')\n",
        "  "
      ]
    },
    {
      "cell_type": "code",
      "source": [
        "import nltk\n",
        "nltk.download('omw-1.4')"
      ],
      "metadata": {
        "colab": {
          "base_uri": "https://localhost:8080/"
        },
        "id": "N5QJ-zZx-0U4",
        "outputId": "ceb61311-aae1-4e12-ea99-14e0303901bf"
      },
      "execution_count": 22,
      "outputs": [
        {
          "output_type": "stream",
          "name": "stderr",
          "text": [
            "[nltk_data] Downloading package omw-1.4 to /root/nltk_data...\n",
            "[nltk_data]   Package omw-1.4 is already up-to-date!\n"
          ]
        },
        {
          "output_type": "execute_result",
          "data": {
            "text/plain": [
              "True"
            ]
          },
          "metadata": {},
          "execution_count": 22
        }
      ]
    },
    {
      "cell_type": "code",
      "execution_count": 23,
      "metadata": {
        "execution": {
          "iopub.execute_input": "2022-02-02T09:52:31.142274Z",
          "iopub.status.busy": "2022-02-02T09:52:31.141574Z",
          "iopub.status.idle": "2022-02-02T09:52:36.807543Z",
          "shell.execute_reply": "2022-02-02T09:52:36.805947Z",
          "shell.execute_reply.started": "2022-02-02T09:52:31.142228Z"
        },
        "id": "kSa049I252is"
      },
      "outputs": [],
      "source": [
        "df_nlp1[\"facts_clean\"] = df_nlp1[\"facts\"].apply(lambda x: utils_preprocess_text(x, flg_stemm=False, flg_lemm=True, lst_stopwords=lst_stopwords))"
      ]
    },
    {
      "cell_type": "code",
      "execution_count": 24,
      "metadata": {
        "execution": {
          "iopub.execute_input": "2022-02-02T09:52:36.810398Z",
          "iopub.status.busy": "2022-02-02T09:52:36.809758Z",
          "iopub.status.idle": "2022-02-02T09:52:36.829911Z",
          "shell.execute_reply": "2022-02-02T09:52:36.828395Z",
          "shell.execute_reply.started": "2022-02-02T09:52:36.810352Z"
        },
        "id": "kmNkjtRe52is",
        "outputId": "82c23bdc-be4c-477d-8453-354ec07bc157",
        "colab": {
          "base_uri": "https://localhost:8080/",
          "height": 423
        }
      },
      "outputs": [
        {
          "output_type": "execute_result",
          "data": {
            "text/plain": [
              "                                                  facts  \\\n",
              "0     Joan Stanley had three children with Peter Sta...   \n",
              "1     John Giglio was convicted of passing forged mo...   \n",
              "2     The Idaho Probate Code specified that \"males m...   \n",
              "3     Miller, after conducting a mass mailing campai...   \n",
              "4     Ernest E. Mandel was a Belgian professional jo...   \n",
              "...                                                 ...   \n",
              "3094  For over a century after the Alaska Purchase i...   \n",
              "3095  Refugio Palomar-Santiago, a Mexican national, ...   \n",
              "3096  Tarahrick Terry pleaded guilty to one count of...   \n",
              "3097  Joshua James Cooley was parked in his pickup t...   \n",
              "3098  The Natural Gas Act (NGA), 15 U.S.C. §§ 717–71...   \n",
              "\n",
              "                                            facts_clean  \n",
              "0     joan stanley three child peter stanley stanley...  \n",
              "1     john giglio convicted passing forged money ord...  \n",
              "2     idaho probate code specified male must preferr...  \n",
              "3     miller conducting mass mailing campaign advert...  \n",
              "4     ernest e mandel belgian professional journalis...  \n",
              "...                                                 ...  \n",
              "3094  century alaska purchase 1867 federal governmen...  \n",
              "3095  refugio palomarsantiago mexican national grant...  \n",
              "3096  tarahrick terry pleaded guilty one count posse...  \n",
              "3097  joshua james cooley parked pickup truck side r...  \n",
              "3098  natural gas act nga 15 usc 717717z permit priv...  \n",
              "\n",
              "[3099 rows x 2 columns]"
            ],
            "text/html": [
              "\n",
              "  <div id=\"df-32fff5fa-1a89-4389-83e2-bb1fe6d492d3\">\n",
              "    <div class=\"colab-df-container\">\n",
              "      <div>\n",
              "<style scoped>\n",
              "    .dataframe tbody tr th:only-of-type {\n",
              "        vertical-align: middle;\n",
              "    }\n",
              "\n",
              "    .dataframe tbody tr th {\n",
              "        vertical-align: top;\n",
              "    }\n",
              "\n",
              "    .dataframe thead th {\n",
              "        text-align: right;\n",
              "    }\n",
              "</style>\n",
              "<table border=\"1\" class=\"dataframe\">\n",
              "  <thead>\n",
              "    <tr style=\"text-align: right;\">\n",
              "      <th></th>\n",
              "      <th>facts</th>\n",
              "      <th>facts_clean</th>\n",
              "    </tr>\n",
              "  </thead>\n",
              "  <tbody>\n",
              "    <tr>\n",
              "      <th>0</th>\n",
              "      <td>Joan Stanley had three children with Peter Sta...</td>\n",
              "      <td>joan stanley three child peter stanley stanley...</td>\n",
              "    </tr>\n",
              "    <tr>\n",
              "      <th>1</th>\n",
              "      <td>John Giglio was convicted of passing forged mo...</td>\n",
              "      <td>john giglio convicted passing forged money ord...</td>\n",
              "    </tr>\n",
              "    <tr>\n",
              "      <th>2</th>\n",
              "      <td>The Idaho Probate Code specified that \"males m...</td>\n",
              "      <td>idaho probate code specified male must preferr...</td>\n",
              "    </tr>\n",
              "    <tr>\n",
              "      <th>3</th>\n",
              "      <td>Miller, after conducting a mass mailing campai...</td>\n",
              "      <td>miller conducting mass mailing campaign advert...</td>\n",
              "    </tr>\n",
              "    <tr>\n",
              "      <th>4</th>\n",
              "      <td>Ernest E. Mandel was a Belgian professional jo...</td>\n",
              "      <td>ernest e mandel belgian professional journalis...</td>\n",
              "    </tr>\n",
              "    <tr>\n",
              "      <th>...</th>\n",
              "      <td>...</td>\n",
              "      <td>...</td>\n",
              "    </tr>\n",
              "    <tr>\n",
              "      <th>3094</th>\n",
              "      <td>For over a century after the Alaska Purchase i...</td>\n",
              "      <td>century alaska purchase 1867 federal governmen...</td>\n",
              "    </tr>\n",
              "    <tr>\n",
              "      <th>3095</th>\n",
              "      <td>Refugio Palomar-Santiago, a Mexican national, ...</td>\n",
              "      <td>refugio palomarsantiago mexican national grant...</td>\n",
              "    </tr>\n",
              "    <tr>\n",
              "      <th>3096</th>\n",
              "      <td>Tarahrick Terry pleaded guilty to one count of...</td>\n",
              "      <td>tarahrick terry pleaded guilty one count posse...</td>\n",
              "    </tr>\n",
              "    <tr>\n",
              "      <th>3097</th>\n",
              "      <td>Joshua James Cooley was parked in his pickup t...</td>\n",
              "      <td>joshua james cooley parked pickup truck side r...</td>\n",
              "    </tr>\n",
              "    <tr>\n",
              "      <th>3098</th>\n",
              "      <td>The Natural Gas Act (NGA), 15 U.S.C. §§ 717–71...</td>\n",
              "      <td>natural gas act nga 15 usc 717717z permit priv...</td>\n",
              "    </tr>\n",
              "  </tbody>\n",
              "</table>\n",
              "<p>3099 rows × 2 columns</p>\n",
              "</div>\n",
              "      <button class=\"colab-df-convert\" onclick=\"convertToInteractive('df-32fff5fa-1a89-4389-83e2-bb1fe6d492d3')\"\n",
              "              title=\"Convert this dataframe to an interactive table.\"\n",
              "              style=\"display:none;\">\n",
              "        \n",
              "  <svg xmlns=\"http://www.w3.org/2000/svg\" height=\"24px\"viewBox=\"0 0 24 24\"\n",
              "       width=\"24px\">\n",
              "    <path d=\"M0 0h24v24H0V0z\" fill=\"none\"/>\n",
              "    <path d=\"M18.56 5.44l.94 2.06.94-2.06 2.06-.94-2.06-.94-.94-2.06-.94 2.06-2.06.94zm-11 1L8.5 8.5l.94-2.06 2.06-.94-2.06-.94L8.5 2.5l-.94 2.06-2.06.94zm10 10l.94 2.06.94-2.06 2.06-.94-2.06-.94-.94-2.06-.94 2.06-2.06.94z\"/><path d=\"M17.41 7.96l-1.37-1.37c-.4-.4-.92-.59-1.43-.59-.52 0-1.04.2-1.43.59L10.3 9.45l-7.72 7.72c-.78.78-.78 2.05 0 2.83L4 21.41c.39.39.9.59 1.41.59.51 0 1.02-.2 1.41-.59l7.78-7.78 2.81-2.81c.8-.78.8-2.07 0-2.86zM5.41 20L4 18.59l7.72-7.72 1.47 1.35L5.41 20z\"/>\n",
              "  </svg>\n",
              "      </button>\n",
              "      \n",
              "  <style>\n",
              "    .colab-df-container {\n",
              "      display:flex;\n",
              "      flex-wrap:wrap;\n",
              "      gap: 12px;\n",
              "    }\n",
              "\n",
              "    .colab-df-convert {\n",
              "      background-color: #E8F0FE;\n",
              "      border: none;\n",
              "      border-radius: 50%;\n",
              "      cursor: pointer;\n",
              "      display: none;\n",
              "      fill: #1967D2;\n",
              "      height: 32px;\n",
              "      padding: 0 0 0 0;\n",
              "      width: 32px;\n",
              "    }\n",
              "\n",
              "    .colab-df-convert:hover {\n",
              "      background-color: #E2EBFA;\n",
              "      box-shadow: 0px 1px 2px rgba(60, 64, 67, 0.3), 0px 1px 3px 1px rgba(60, 64, 67, 0.15);\n",
              "      fill: #174EA6;\n",
              "    }\n",
              "\n",
              "    [theme=dark] .colab-df-convert {\n",
              "      background-color: #3B4455;\n",
              "      fill: #D2E3FC;\n",
              "    }\n",
              "\n",
              "    [theme=dark] .colab-df-convert:hover {\n",
              "      background-color: #434B5C;\n",
              "      box-shadow: 0px 1px 3px 1px rgba(0, 0, 0, 0.15);\n",
              "      filter: drop-shadow(0px 1px 2px rgba(0, 0, 0, 0.3));\n",
              "      fill: #FFFFFF;\n",
              "    }\n",
              "  </style>\n",
              "\n",
              "      <script>\n",
              "        const buttonEl =\n",
              "          document.querySelector('#df-32fff5fa-1a89-4389-83e2-bb1fe6d492d3 button.colab-df-convert');\n",
              "        buttonEl.style.display =\n",
              "          google.colab.kernel.accessAllowed ? 'block' : 'none';\n",
              "\n",
              "        async function convertToInteractive(key) {\n",
              "          const element = document.querySelector('#df-32fff5fa-1a89-4389-83e2-bb1fe6d492d3');\n",
              "          const dataTable =\n",
              "            await google.colab.kernel.invokeFunction('convertToInteractive',\n",
              "                                                     [key], {});\n",
              "          if (!dataTable) return;\n",
              "\n",
              "          const docLinkHtml = 'Like what you see? Visit the ' +\n",
              "            '<a target=\"_blank\" href=https://colab.research.google.com/notebooks/data_table.ipynb>data table notebook</a>'\n",
              "            + ' to learn more about interactive tables.';\n",
              "          element.innerHTML = '';\n",
              "          dataTable['output_type'] = 'display_data';\n",
              "          await google.colab.output.renderOutput(dataTable, element);\n",
              "          const docLink = document.createElement('div');\n",
              "          docLink.innerHTML = docLinkHtml;\n",
              "          element.appendChild(docLink);\n",
              "        }\n",
              "      </script>\n",
              "    </div>\n",
              "  </div>\n",
              "  "
            ]
          },
          "metadata": {},
          "execution_count": 24
        }
      ],
      "source": [
        "df_nlp1"
      ]
    },
    {
      "cell_type": "markdown",
      "metadata": {
        "id": "Hfhyh1Ay52it"
      },
      "source": [
        "#### Exploratory Data Analysis"
      ]
    },
    {
      "cell_type": "code",
      "execution_count": 25,
      "metadata": {
        "execution": {
          "iopub.execute_input": "2022-02-02T09:52:36.832399Z",
          "iopub.status.busy": "2022-02-02T09:52:36.831645Z",
          "iopub.status.idle": "2022-02-02T09:52:36.839867Z",
          "shell.execute_reply": "2022-02-02T09:52:36.838751Z",
          "shell.execute_reply.started": "2022-02-02T09:52:36.83235Z"
        },
        "id": "2OQpouJY52it"
      },
      "outputs": [],
      "source": [
        "df_nlp2 = pd.concat([df_nlp1,df_target1['first_party_winner']],axis=1, join='inner')"
      ]
    },
    {
      "cell_type": "code",
      "execution_count": 26,
      "metadata": {
        "id": "hwUsMqQq52iu",
        "outputId": "63703103-9e47-4e53-a0a1-c8528183c7a1",
        "colab": {
          "base_uri": "https://localhost:8080/"
        }
      },
      "outputs": [
        {
          "output_type": "execute_result",
          "data": {
            "text/plain": [
              "1    2068\n",
              "0    1031\n",
              "Name: first_party_winner, dtype: int64"
            ]
          },
          "metadata": {},
          "execution_count": 26
        }
      ],
      "source": [
        "df_nlp2[\"first_party_winner\"].value_counts()"
      ]
    },
    {
      "cell_type": "code",
      "execution_count": 27,
      "metadata": {
        "execution": {
          "iopub.execute_input": "2022-02-02T09:52:36.843488Z",
          "iopub.status.busy": "2022-02-02T09:52:36.842176Z",
          "iopub.status.idle": "2022-02-02T09:52:36.850469Z",
          "shell.execute_reply": "2022-02-02T09:52:36.849059Z",
          "shell.execute_reply.started": "2022-02-02T09:52:36.843364Z"
        },
        "id": "VnOqiPnY52iu"
      },
      "outputs": [],
      "source": [
        "import matplotlib.pyplot as plt\n",
        "from matplotlib.pyplot import figure"
      ]
    },
    {
      "cell_type": "code",
      "execution_count": 28,
      "metadata": {
        "execution": {
          "iopub.execute_input": "2022-02-02T09:52:36.855097Z",
          "iopub.status.busy": "2022-02-02T09:52:36.85458Z",
          "iopub.status.idle": "2022-02-02T09:52:40.276649Z",
          "shell.execute_reply": "2022-02-02T09:52:40.275487Z",
          "shell.execute_reply.started": "2022-02-02T09:52:36.855056Z"
        },
        "id": "Udv7-a6n52iv",
        "outputId": "6cca5350-1af8-40d9-bfeb-34bc63593426",
        "colab": {
          "base_uri": "https://localhost:8080/",
          "height": 294
        }
      },
      "outputs": [
        {
          "output_type": "display_data",
          "data": {
            "text/plain": [
              "<Figure size 432x288 with 2 Axes>"
            ],
            "image/png": "[encoded data removed]"
          },
          "metadata": {
            "needs_background": "light"
          }
        }
      ],
      "source": [
        "y = 1\n",
        "corpus = df_nlp2[df_nlp2[\"first_party_winner\"]== y][\"facts_clean\"]\n",
        "lst_tokens = nltk.tokenize.word_tokenize(corpus.str.cat(sep=\" \"))\n",
        "fig, ax = plt.subplots(nrows=2, ncols=1)\n",
        "fig.suptitle(\"Most frequent words\", fontsize=15)\n",
        "#figure(figsize=(30, 24))\n",
        "## unigrams\n",
        "dic_words_freq = nltk.FreqDist(lst_tokens)\n",
        "dtf_uni = pd.DataFrame(dic_words_freq.most_common(), \n",
        "                       columns=[\"Word\",\"Freq\"])\n",
        "dtf_uni.set_index(\"Word\").iloc[:10,:].sort_values(by=\"Freq\").plot(\n",
        "                  kind=\"barh\", title=\"Unigrams\", ax=ax[0], \n",
        "                  legend=False).grid(axis='x')\n",
        "ax[0].set(ylabel=None)\n",
        "    \n",
        "## bigrams\n",
        "dic_words_freq = nltk.FreqDist(nltk.ngrams(lst_tokens, 2))\n",
        "dtf_bi = pd.DataFrame(dic_words_freq.most_common(), \n",
        "                      columns=[\"Word\",\"Freq\"])\n",
        "dtf_bi[\"Word\"] = dtf_bi[\"Word\"].apply(lambda x: \" \".join(\n",
        "                   string for string in x) )\n",
        "dtf_bi.set_index(\"Word\").iloc[:10,:].sort_values(by=\"Freq\").plot(\n",
        "                  kind=\"barh\", title=\"Bigrams\", ax=ax[1],\n",
        "                  legend=False).grid(axis='x')\n",
        "ax[1].set(ylabel=None)\n",
        "plt.show()"
      ]
    },
    {
      "cell_type": "code",
      "execution_count": 29,
      "metadata": {
        "execution": {
          "iopub.execute_input": "2022-02-02T09:52:40.278928Z",
          "iopub.status.busy": "2022-02-02T09:52:40.278387Z",
          "iopub.status.idle": "2022-02-02T09:52:42.16132Z",
          "shell.execute_reply": "2022-02-02T09:52:42.160383Z",
          "shell.execute_reply.started": "2022-02-02T09:52:40.27888Z"
        },
        "id": "e-XYCCUT52iw",
        "outputId": "0d90410e-dc45-43b5-91fa-53eb73b4561a",
        "colab": {
          "base_uri": "https://localhost:8080/",
          "height": 294
        }
      },
      "outputs": [
        {
          "output_type": "display_data",
          "data": {
            "text/plain": [
              "<Figure size 432x288 with 2 Axes>"
            ],
            "image/png": "[encoded data removed]"
          },
          "metadata": {
            "needs_background": "light"
          }
        }
      ],
      "source": [
        "y = 0\n",
        "corpus = df_nlp2[df_nlp2[\"first_party_winner\"]== y][\"facts_clean\"]\n",
        "lst_tokens = nltk.tokenize.word_tokenize(corpus.str.cat(sep=\" \"))\n",
        "fig, ax = plt.subplots(nrows=2, ncols=1)\n",
        "fig.suptitle(\"Most frequent words\", fontsize=15)\n",
        "#figure(figsize=(30, 24))\n",
        "## unigrams\n",
        "dic_words_freq = nltk.FreqDist(lst_tokens)\n",
        "dtf_uni = pd.DataFrame(dic_words_freq.most_common(), \n",
        "                       columns=[\"Word\",\"Freq\"])\n",
        "dtf_uni.set_index(\"Word\").iloc[:10,:].sort_values(by=\"Freq\").plot(\n",
        "                  kind=\"barh\", title=\"Unigrams\", ax=ax[0], \n",
        "                  legend=False).grid(axis='x')\n",
        "ax[0].set(ylabel=None)\n",
        "    \n",
        "## bigrams\n",
        "dic_words_freq = nltk.FreqDist(nltk.ngrams(lst_tokens, 2))\n",
        "dtf_bi = pd.DataFrame(dic_words_freq.most_common(), \n",
        "                      columns=[\"Word\",\"Freq\"])\n",
        "dtf_bi[\"Word\"] = dtf_bi[\"Word\"].apply(lambda x: \" \".join(\n",
        "                   string for string in x) )\n",
        "dtf_bi.set_index(\"Word\").iloc[:10,:].sort_values(by=\"Freq\").plot(\n",
        "                  kind=\"barh\", title=\"Bigrams\", ax=ax[1],\n",
        "                  legend=False).grid(axis='x')\n",
        "ax[1].set(ylabel=None)\n",
        "plt.show()"
      ]
    },
    {
      "cell_type": "code",
      "source": [
        "from wordcloud import WordCloud,STOPWORDS"
      ],
      "metadata": {
        "id": "2ZNH3TpHBLI8"
      },
      "execution_count": 30,
      "outputs": []
    },
    {
      "cell_type": "code",
      "execution_count": 31,
      "metadata": {
        "execution": {
          "iopub.execute_input": "2022-02-02T09:52:42.219718Z",
          "iopub.status.busy": "2022-02-02T09:52:42.219302Z",
          "iopub.status.idle": "2022-02-02T09:52:42.574271Z",
          "shell.execute_reply": "2022-02-02T09:52:42.573325Z",
          "shell.execute_reply.started": "2022-02-02T09:52:42.219643Z"
        },
        "id": "pU1ax4Qv52iy",
        "outputId": "659d85ed-1d04-4c99-9912-6947118b4d6e",
        "colab": {
          "base_uri": "https://localhost:8080/",
          "height": 198
        }
      },
      "outputs": [
        {
          "output_type": "display_data",
          "data": {
            "text/plain": [
              "<Figure size 432x288 with 1 Axes>"
            ],
            "image/png": "[encoded data removed]"
          },
          "metadata": {
            "needs_background": "light"
          }
        }
      ],
      "source": [
        "wc = WordCloud(background_color='black', max_words=100, \n",
        "                         max_font_size=35)\n",
        "wc = wc.generate(str(corpus))\n",
        "fig = plt.figure(num=1)\n",
        "plt.axis('off')\n",
        "plt.imshow(wc, cmap=None)\n",
        "plt.show()"
      ]
    },
    {
      "cell_type": "code",
      "execution_count": 32,
      "metadata": {
        "execution": {
          "iopub.execute_input": "2022-02-02T09:52:42.576967Z",
          "iopub.status.busy": "2022-02-02T09:52:42.575628Z",
          "iopub.status.idle": "2022-02-02T09:52:43.222716Z",
          "shell.execute_reply": "2022-02-02T09:52:43.221667Z",
          "shell.execute_reply.started": "2022-02-02T09:52:42.576917Z"
        },
        "id": "FZs5XmT052iy"
      },
      "outputs": [],
      "source": [
        "import gensim.downloader as gensim_api\n",
        "import gensim\n",
        "import seaborn as sns"
      ]
    },
    {
      "cell_type": "code",
      "execution_count": 33,
      "metadata": {
        "execution": {
          "iopub.execute_input": "2022-02-02T09:52:43.224454Z",
          "iopub.status.busy": "2022-02-02T09:52:43.224134Z",
          "iopub.status.idle": "2022-02-02T09:53:07.03329Z",
          "shell.execute_reply": "2022-02-02T09:53:07.03238Z",
          "shell.execute_reply.started": "2022-02-02T09:52:43.22441Z"
        },
        "id": "_4L9onmr52iz",
        "colab": {
          "base_uri": "https://localhost:8080/",
          "height": 295
        },
        "outputId": "0bab28ab-4e87-436d-97b0-e558dc84dda9"
      },
      "outputs": [
        {
          "output_type": "display_data",
          "data": {
            "text/plain": [
              "<Figure size 432x288 with 1 Axes>"
            ],
            "image/png": "[encoded data removed]"
          },
          "metadata": {
            "needs_background": "light"
          }
        }
      ],
      "source": [
        "y = 1\n",
        "corpus = df_nlp2[df_nlp2[\"first_party_winner\"]==y][\"facts_clean\"]\n",
        "## pre-process corpus\n",
        "lst_corpus = []\n",
        "for string in corpus:\n",
        "    lst_words = string.split()\n",
        "    lst_grams = [\" \".join(lst_words[i:i + 2]) for i in range(0, \n",
        "                     len(lst_words), 2)]\n",
        "    lst_corpus.append(lst_grams)## map words to an id\n",
        "id2word = gensim.corpora.Dictionary(lst_corpus)## create dictionary word:freq\n",
        "dic_corpus = [id2word.doc2bow(word) for word in lst_corpus] ## train LDA\n",
        "lda_model = gensim.models.ldamodel.LdaModel(corpus=dic_corpus, id2word=id2word, \n",
        "                                            num_topics=7, random_state=123, \n",
        "                                            update_every=1, chunksize=100, \n",
        "                                            passes=10, alpha='auto', \n",
        "                                            per_word_topics=True)\n",
        "   \n",
        "## output\n",
        "lst_dics = []\n",
        "for i in range(0,3):\n",
        "    lst_tuples = lda_model.get_topic_terms(i)\n",
        "    for tupla in lst_tuples:\n",
        "        lst_dics.append({\"topic\":i, \"id\":tupla[0], \n",
        "                         \"word\":id2word[tupla[0]], \n",
        "                         \"weight\":tupla[1]})\n",
        "dtf_topics = pd.DataFrame(lst_dics, \n",
        "                         columns=['topic','id','word','weight'])\n",
        "\n",
        "## plot\n",
        "fig, ax = plt.subplots()\n",
        "sns.barplot(y=\"word\", x=\"weight\", hue=\"topic\", data=dtf_topics, dodge=False, ax=ax).set_title('Main Topics')\n",
        "ax.set(ylabel=\"\", xlabel=\"Word Importance\")\n",
        "plt.show()"
      ]
    },
    {
      "cell_type": "code",
      "execution_count": 34,
      "metadata": {
        "execution": {
          "iopub.execute_input": "2022-02-02T09:53:07.035706Z",
          "iopub.status.busy": "2022-02-02T09:53:07.035358Z",
          "iopub.status.idle": "2022-02-02T09:53:17.51345Z",
          "shell.execute_reply": "2022-02-02T09:53:17.512379Z",
          "shell.execute_reply.started": "2022-02-02T09:53:07.03566Z"
        },
        "id": "e3fJpKdL52iz",
        "colab": {
          "base_uri": "https://localhost:8080/",
          "height": 295
        },
        "outputId": "046f7ec8-085d-4a42-c610-7e0ff283a5e7"
      },
      "outputs": [
        {
          "output_type": "display_data",
          "data": {
            "text/plain": [
              "<Figure size 432x288 with 1 Axes>"
            ],
            "image/png": "[encoded data removed]"
          },
          "metadata": {
            "needs_background": "light"
          }
        }
      ],
      "source": [
        "y = 0\n",
        "corpus = df_nlp2[df_nlp2[\"first_party_winner\"]==y][\"facts_clean\"]\n",
        "## pre-process corpus\n",
        "lst_corpus = []\n",
        "for string in corpus:\n",
        "    lst_words = string.split()\n",
        "    lst_grams = [\" \".join(lst_words[i:i + 2]) for i in range(0, \n",
        "                     len(lst_words), 2)]\n",
        "    lst_corpus.append(lst_grams)## map words to an id\n",
        "id2word = gensim.corpora.Dictionary(lst_corpus)## create dictionary word:freq\n",
        "dic_corpus = [id2word.doc2bow(word) for word in lst_corpus] ## train LDA\n",
        "lda_model = gensim.models.ldamodel.LdaModel(corpus=dic_corpus, id2word=id2word, \n",
        "                                            num_topics=7, random_state=123, \n",
        "                                            update_every=1, chunksize=100, \n",
        "                                            passes=10, alpha='auto', \n",
        "                                            per_word_topics=True)\n",
        "   \n",
        "## output\n",
        "lst_dics = []\n",
        "for i in range(0,3):\n",
        "    lst_tuples = lda_model.get_topic_terms(i)\n",
        "    for tupla in lst_tuples:\n",
        "        lst_dics.append({\"topic\":i, \"id\":tupla[0], \n",
        "                         \"word\":id2word[tupla[0]], \n",
        "                         \"weight\":tupla[1]})\n",
        "dtf_topics = pd.DataFrame(lst_dics, \n",
        "                         columns=['topic','id','word','weight'])\n",
        "\n",
        "## plot\n",
        "fig, ax = plt.subplots()\n",
        "sns.barplot(y=\"word\", x=\"weight\", hue=\"topic\", data=dtf_topics, dodge=False, ax=ax).set_title('Main Topics')\n",
        "ax.set(ylabel=\"\", xlabel=\"Word Importance\")\n",
        "plt.show()"
      ]
    },
    {
      "cell_type": "markdown",
      "metadata": {
        "id": "nSLmI7eD52jP"
      },
      "source": [
        "**Thank you**"
      ]
    }
  ],
  "metadata": {
    "kernelspec": {
      "display_name": "Python 3 (ipykernel)",
      "language": "python",
      "name": "python3"
    },
    "language_info": {
      "codemirror_mode": {
        "name": "ipython",
        "version": 3
      },
      "file_extension": ".py",
      "mimetype": "text/x-python",
      "name": "python",
      "nbconvert_exporter": "python",
      "pygments_lexer": "ipython3",
      "version": "3.9.7"
    },
    "colab": {
      "provenance": []
    }
  },
  "nbformat": 4,
  "nbformat_minor": 0
}